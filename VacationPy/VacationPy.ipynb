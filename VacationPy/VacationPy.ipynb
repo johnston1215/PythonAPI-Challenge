{
 "cells": [
  {
   "cell_type": "markdown",
   "metadata": {},
   "source": [
    "# VacationPy\n",
    "----\n",
    "\n",
    "#### Note\n",
    "* Keep an eye on your API usage. Use https://developers.google.com/maps/reporting/gmp-reporting as reference for how to monitor your usage and billing.\n",
    "\n",
    "* Instructions have been included for each segment. You do not have to follow them exactly, but they are included to help you think through the steps."
   ]
  },
  {
   "cell_type": "code",
   "execution_count": 1,
   "metadata": {},
   "outputs": [],
   "source": [
    "# Dependencies and Setup\n",
    "import matplotlib.pyplot as plt\n",
    "import pandas as pd\n",
    "import numpy as np\n",
    "import requests\n",
    "import gmaps\n",
    "import os\n",
    "\n",
    "# Import API key\n",
    "from config import Googapi_key"
   ]
  },
  {
   "cell_type": "markdown",
   "metadata": {},
   "source": [
    "### Store Part I results into DataFrame\n",
    "* Load the csv exported in Part I to a DataFrame"
   ]
  },
  {
   "cell_type": "code",
   "execution_count": 2,
   "metadata": {},
   "outputs": [
    {
     "data": {
      "text/html": [
       "<div>\n",
       "<style scoped>\n",
       "    .dataframe tbody tr th:only-of-type {\n",
       "        vertical-align: middle;\n",
       "    }\n",
       "\n",
       "    .dataframe tbody tr th {\n",
       "        vertical-align: top;\n",
       "    }\n",
       "\n",
       "    .dataframe thead th {\n",
       "        text-align: right;\n",
       "    }\n",
       "</style>\n",
       "<table border=\"1\" class=\"dataframe\">\n",
       "  <thead>\n",
       "    <tr style=\"text-align: right;\">\n",
       "      <th></th>\n",
       "      <th>City</th>\n",
       "      <th>Lat</th>\n",
       "      <th>Lng</th>\n",
       "      <th>Temp</th>\n",
       "      <th>Humidity</th>\n",
       "      <th>Max Temp</th>\n",
       "      <th>Cloudiness</th>\n",
       "      <th>Wind Speed</th>\n",
       "      <th>Country</th>\n",
       "      <th>Date</th>\n",
       "    </tr>\n",
       "  </thead>\n",
       "  <tbody>\n",
       "    <tr>\n",
       "      <th>0</th>\n",
       "      <td>Savelugu</td>\n",
       "      <td>9.62</td>\n",
       "      <td>-0.83</td>\n",
       "      <td>74.59</td>\n",
       "      <td>87</td>\n",
       "      <td>74.59</td>\n",
       "      <td>100</td>\n",
       "      <td>7.31</td>\n",
       "      <td>GH</td>\n",
       "      <td>1598371944</td>\n",
       "    </tr>\n",
       "    <tr>\n",
       "      <th>1</th>\n",
       "      <td>Forsytheganj</td>\n",
       "      <td>52.63</td>\n",
       "      <td>29.73</td>\n",
       "      <td>65.98</td>\n",
       "      <td>85</td>\n",
       "      <td>65.98</td>\n",
       "      <td>92</td>\n",
       "      <td>5.97</td>\n",
       "      <td>BY</td>\n",
       "      <td>1598371944</td>\n",
       "    </tr>\n",
       "    <tr>\n",
       "      <th>2</th>\n",
       "      <td>Pevek</td>\n",
       "      <td>69.70</td>\n",
       "      <td>170.31</td>\n",
       "      <td>37.65</td>\n",
       "      <td>97</td>\n",
       "      <td>37.65</td>\n",
       "      <td>100</td>\n",
       "      <td>3.33</td>\n",
       "      <td>RU</td>\n",
       "      <td>1598371944</td>\n",
       "    </tr>\n",
       "    <tr>\n",
       "      <th>3</th>\n",
       "      <td>Borshchiv</td>\n",
       "      <td>48.80</td>\n",
       "      <td>26.04</td>\n",
       "      <td>64.00</td>\n",
       "      <td>82</td>\n",
       "      <td>64.00</td>\n",
       "      <td>100</td>\n",
       "      <td>4.00</td>\n",
       "      <td>UA</td>\n",
       "      <td>1598371945</td>\n",
       "    </tr>\n",
       "    <tr>\n",
       "      <th>4</th>\n",
       "      <td>Mehamn</td>\n",
       "      <td>71.04</td>\n",
       "      <td>27.85</td>\n",
       "      <td>53.60</td>\n",
       "      <td>66</td>\n",
       "      <td>53.60</td>\n",
       "      <td>20</td>\n",
       "      <td>9.17</td>\n",
       "      <td>NO</td>\n",
       "      <td>1598371945</td>\n",
       "    </tr>\n",
       "  </tbody>\n",
       "</table>\n",
       "</div>"
      ],
      "text/plain": [
       "           City    Lat     Lng   Temp  Humidity  Max Temp  Cloudiness  \\\n",
       "0      Savelugu   9.62   -0.83  74.59        87     74.59         100   \n",
       "1  Forsytheganj  52.63   29.73  65.98        85     65.98          92   \n",
       "2         Pevek  69.70  170.31  37.65        97     37.65         100   \n",
       "3     Borshchiv  48.80   26.04  64.00        82     64.00         100   \n",
       "4        Mehamn  71.04   27.85  53.60        66     53.60          20   \n",
       "\n",
       "   Wind Speed Country        Date  \n",
       "0        7.31      GH  1598371944  \n",
       "1        5.97      BY  1598371944  \n",
       "2        3.33      RU  1598371944  \n",
       "3        4.00      UA  1598371945  \n",
       "4        9.17      NO  1598371945  "
      ]
     },
     "execution_count": 2,
     "metadata": {},
     "output_type": "execute_result"
    }
   ],
   "source": [
    "# Save file path to variable\n",
    "humidity_csv = \"../WeatherPy/weather_data.csv\"\n",
    "# Read with Pandas\n",
    "humid_df = pd.read_csv(humidity_csv)\n",
    "del humid_df[\"Unnamed: 0\"]\n",
    "humid_df.head()"
   ]
  },
  {
   "cell_type": "markdown",
   "metadata": {},
   "source": [
    "### Humidity Heatmap\n",
    "* Configure gmaps.\n",
    "* Use the Lat and Lng as locations and Humidity as the weight.\n",
    "* Add Heatmap layer to map."
   ]
  },
  {
   "cell_type": "code",
   "execution_count": 3,
   "metadata": {},
   "outputs": [],
   "source": [
    "# Configure gmaps with API key\n",
    "gmaps.configure(api_key=Googapi_key)"
   ]
  },
  {
   "cell_type": "code",
   "execution_count": 4,
   "metadata": {},
   "outputs": [],
   "source": [
    "# Store 'Lat' and 'Lng' into  locations \n",
    "locations = humid_df[[\"Lat\", \"Lng\"]].astype(float)\n",
    "humidity = humid_df[\"Humidity\"].astype(float)"
   ]
  },
  {
   "cell_type": "code",
   "execution_count": 5,
   "metadata": {},
   "outputs": [
    {
     "data": {
      "application/vnd.jupyter.widget-view+json": {
       "model_id": "131638e20fdc4b85935c3c04dd8f97fb",
       "version_major": 2,
       "version_minor": 0
      },
      "text/plain": [
       "Figure(layout=FigureLayout(height='420px'))"
      ]
     },
     "metadata": {},
     "output_type": "display_data"
    }
   ],
   "source": [
    "fig = gmaps.figure()\n",
    "heat_layer = gmaps.heatmap_layer(locations, weights=humidity, \n",
    "                                 dissipating=False, max_intensity=100,\n",
    "                                 point_radius = 1)\n",
    "fig.add_layer(heat_layer)\n",
    "fig"
   ]
  },
  {
   "cell_type": "markdown",
   "metadata": {},
   "source": [
    "### Create new DataFrame fitting weather criteria\n",
    "* Narrow down the cities to fit weather conditions.\n",
    "* Drop any rows will null values."
   ]
  },
  {
   "cell_type": "code",
   "execution_count": 12,
   "metadata": {},
   "outputs": [],
   "source": [
    "Temp_df = humid_df.loc[(humid_df[\"Max Temp\"] > 70) & (humid_df[\"Max Temp\"] < 80)]\n",
    "#Temp_df\n",
    "Wind_df = Temp_df.loc[(Temp_df[\"Wind Speed\"] <= 8)]\n",
    "#Wind_df\n",
    "perfect_df = Wind_df.loc[(Wind_df[\"Cloudiness\"] == 0)]\n",
    "#perfect_df"
   ]
  },
  {
   "cell_type": "markdown",
   "metadata": {},
   "source": [
    "### Hotel Map\n",
    "* Store into variable named `hotel_df`.\n",
    "* Add a \"Hotel Name\" column to the DataFrame.\n",
    "* Set parameters to search for hotels with 5000 meters.\n",
    "* Hit the Google Places API for each city's coordinates.\n",
    "* Store the first Hotel result into the DataFrame.\n",
    "* Plot markers on top of the heatmap."
   ]
  },
  {
   "cell_type": "code",
   "execution_count": 20,
   "metadata": {},
   "outputs": [
    {
     "data": {
      "text/html": [
       "<div>\n",
       "<style scoped>\n",
       "    .dataframe tbody tr th:only-of-type {\n",
       "        vertical-align: middle;\n",
       "    }\n",
       "\n",
       "    .dataframe tbody tr th {\n",
       "        vertical-align: top;\n",
       "    }\n",
       "\n",
       "    .dataframe thead th {\n",
       "        text-align: right;\n",
       "    }\n",
       "</style>\n",
       "<table border=\"1\" class=\"dataframe\">\n",
       "  <thead>\n",
       "    <tr style=\"text-align: right;\">\n",
       "      <th></th>\n",
       "      <th>City</th>\n",
       "      <th>Lat</th>\n",
       "      <th>Lng</th>\n",
       "      <th>Temp</th>\n",
       "      <th>Humidity</th>\n",
       "      <th>Max Temp</th>\n",
       "      <th>Cloudiness</th>\n",
       "      <th>Wind Speed</th>\n",
       "      <th>Country</th>\n",
       "      <th>Date</th>\n",
       "      <th>Hotel Name</th>\n",
       "    </tr>\n",
       "  </thead>\n",
       "  <tbody>\n",
       "    <tr>\n",
       "      <th>0</th>\n",
       "      <td>Oruzgan</td>\n",
       "      <td>32.83</td>\n",
       "      <td>66.00</td>\n",
       "      <td>79.65</td>\n",
       "      <td>23</td>\n",
       "      <td>79.65</td>\n",
       "      <td>0</td>\n",
       "      <td>6.04</td>\n",
       "      <td>AF</td>\n",
       "      <td>1598371950</td>\n",
       "      <td></td>\n",
       "    </tr>\n",
       "    <tr>\n",
       "      <th>1</th>\n",
       "      <td>Verkhniy Baskunchak</td>\n",
       "      <td>48.23</td>\n",
       "      <td>46.72</td>\n",
       "      <td>76.71</td>\n",
       "      <td>26</td>\n",
       "      <td>76.71</td>\n",
       "      <td>0</td>\n",
       "      <td>1.45</td>\n",
       "      <td>RU</td>\n",
       "      <td>1598371968</td>\n",
       "      <td></td>\n",
       "    </tr>\n",
       "  </tbody>\n",
       "</table>\n",
       "</div>"
      ],
      "text/plain": [
       "                  City    Lat    Lng   Temp  Humidity  Max Temp  Cloudiness  \\\n",
       "0              Oruzgan  32.83  66.00  79.65        23     79.65           0   \n",
       "1  Verkhniy Baskunchak  48.23  46.72  76.71        26     76.71           0   \n",
       "\n",
       "   Wind Speed Country        Date Hotel Name  \n",
       "0        6.04      AF  1598371950             \n",
       "1        1.45      RU  1598371968             "
      ]
     },
     "execution_count": 20,
     "metadata": {},
     "output_type": "execute_result"
    }
   ],
   "source": [
    "hotel_df = perfect_df.reset_index()\n",
    "del hotel_df['index']\n",
    "hotel_df[\"Hotel Name\"] = \"\"\n",
    "hotel_df.head(2)"
   ]
  },
  {
   "cell_type": "code",
   "execution_count": null,
   "metadata": {},
   "outputs": [],
   "source": []
  },
  {
   "cell_type": "code",
   "execution_count": null,
   "metadata": {},
   "outputs": [],
   "source": [
    "# NOTE: Do not change any of the code in this cell\n",
    "\n",
    "# Using the template add the hotel marks to the heatmap\n",
    "info_box_template = \"\"\"\n",
    "<dl>\n",
    "<dt>Name</dt><dd>{Hotel Name}</dd>\n",
    "<dt>City</dt><dd>{City}</dd>\n",
    "<dt>Country</dt><dd>{Country}</dd>\n",
    "</dl>\n",
    "\"\"\"\n",
    "# Store the DataFrame Row\n",
    "# NOTE: be sure to update with your DataFrame name\n",
    "hotel_info = [info_box_template.format(**row) for index, row in hotel_df.iterrows()]\n",
    "locations = hotel_df[[\"Lat\", \"Lng\"]]"
   ]
  },
  {
   "cell_type": "code",
   "execution_count": null,
   "metadata": {},
   "outputs": [],
   "source": [
    "# Add marker layer ontop of heat map\n",
    "\n",
    "\n",
    "# Display figure\n"
   ]
  },
  {
   "cell_type": "code",
   "execution_count": null,
   "metadata": {},
   "outputs": [],
   "source": []
  }
 ],
 "metadata": {
  "kernelspec": {
   "display_name": "Python 3",
   "language": "python",
   "name": "python3"
  },
  "language_info": {
   "codemirror_mode": {
    "name": "ipython",
    "version": 3
   },
   "file_extension": ".py",
   "mimetype": "text/x-python",
   "name": "python",
   "nbconvert_exporter": "python",
   "pygments_lexer": "ipython3",
   "version": "3.6.10"
  },
  "latex_envs": {
   "LaTeX_envs_menu_present": true,
   "autoclose": false,
   "autocomplete": true,
   "bibliofile": "biblio.bib",
   "cite_by": "apalike",
   "current_citInitial": 1,
   "eqLabelWithNumbers": true,
   "eqNumInitial": 1,
   "hotkeys": {
    "equation": "Ctrl-E",
    "itemize": "Ctrl-I"
   },
   "labels_anchors": false,
   "latex_user_defs": false,
   "report_style_numbering": false,
   "user_envs_cfg": false
  }
 },
 "nbformat": 4,
 "nbformat_minor": 4
}
